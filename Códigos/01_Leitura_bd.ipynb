{
 "cells": [
  {
   "cell_type": "code",
   "execution_count": 1,
   "id": "5def4e5b-cd88-45cd-a4dd-7921ad52fbd0",
   "metadata": {
    "tags": []
   },
   "outputs": [],
   "source": [
    "import duckdb\n",
    "import os\n",
    "import pandas as pd\n",
    "from tqdm import tqdm\n",
    "import re"
   ]
  },
  {
   "cell_type": "code",
   "execution_count": 2,
   "id": "147e580a-3dd9-4bf6-ba23-451a2a265160",
   "metadata": {},
   "outputs": [
    {
     "name": "stdout",
     "output_type": "stream",
     "text": [
      "Arquivos no diretório:\n",
      "F.K03200$W.SIMPLES.CSV.D40413\n",
      "F.K03200$Z.D40413.NATJUCSV\n",
      "K3241.K03200Y0.D40413.EMPRECSV\n",
      "K3241.K03200Y0.D40413.ESTABELE\n",
      "K3241.K03200Y1.D40413.EMPRECSV\n",
      "K3241.K03200Y1.D40413.ESTABELE\n",
      "K3241.K03200Y2.D40413.EMPRECSV\n",
      "K3241.K03200Y2.D40413.ESTABELE\n",
      "K3241.K03200Y3.D40413.EMPRECSV\n",
      "K3241.K03200Y3.D40413.ESTABELE\n",
      "K3241.K03200Y4.D40413.EMPRECSV\n",
      "K3241.K03200Y4.D40413.ESTABELE\n",
      "K3241.K03200Y5.D40413.EMPRECSV\n",
      "K3241.K03200Y5.D40413.ESTABELE\n",
      "K3241.K03200Y6.D40413.ESTABELE\n",
      "K3241.K03200Y7.D40413.ESTABELE\n",
      "K3241.K03200Y8.D40413.EMPRECSV\n",
      "K3241.K03200Y8.D40413.ESTABELE\n",
      "K3241.K03200Y9.D40413.EMPRECSV\n",
      "K3241.K03200Y9.D40413.ESTABELE\n"
     ]
    },
    {
     "name": "stderr",
     "output_type": "stream",
     "text": [
      "Processando arquivos:   0%|          | 0/20 [00:00<?, ?it/s]"
     ]
    },
    {
     "name": "stdout",
     "output_type": "stream",
     "text": [
      "Lendo e carregando arquivo D:/CNPJ_Dados_Abertos/Extracted/F.K03200$W.SIMPLES.CSV.D40413 no DuckDB em chunks...\n"
     ]
    },
    {
     "name": "stderr",
     "output_type": "stream",
     "text": [
      "Processando arquivos:   5%|▌         | 1/20 [02:57<56:13, 177.55s/it]"
     ]
    },
    {
     "name": "stdout",
     "output_type": "stream",
     "text": [
      "Lendo e carregando arquivo D:/CNPJ_Dados_Abertos/Extracted/K3241.K03200Y0.D40413.EMPRECSV no DuckDB em chunks...\n"
     ]
    },
    {
     "name": "stderr",
     "output_type": "stream",
     "text": [
      "Processando arquivos:  15%|█▌        | 3/20 [04:54<25:21, 89.52s/it] "
     ]
    },
    {
     "name": "stdout",
     "output_type": "stream",
     "text": [
      "Lendo e carregando arquivo D:/CNPJ_Dados_Abertos/Extracted/K3241.K03200Y0.D40413.ESTABELE no DuckDB em chunks...\n"
     ]
    },
    {
     "name": "stderr",
     "output_type": "stream",
     "text": [
      "Processando arquivos:  20%|██        | 4/20 [12:00<54:54, 205.91s/it]"
     ]
    },
    {
     "name": "stdout",
     "output_type": "stream",
     "text": [
      "Lendo e carregando arquivo D:/CNPJ_Dados_Abertos/Extracted/K3241.K03200Y1.D40413.EMPRECSV no DuckDB em chunks...\n"
     ]
    },
    {
     "name": "stderr",
     "output_type": "stream",
     "text": [
      "Processando arquivos:  25%|██▌       | 5/20 [12:41<37:49, 151.28s/it]"
     ]
    },
    {
     "name": "stdout",
     "output_type": "stream",
     "text": [
      "Lendo e carregando arquivo D:/CNPJ_Dados_Abertos/Extracted/K3241.K03200Y1.D40413.ESTABELE no DuckDB em chunks...\n"
     ]
    },
    {
     "name": "stderr",
     "output_type": "stream",
     "text": [
      "Processando arquivos:  30%|███       | 6/20 [15:10<35:06, 150.44s/it]"
     ]
    },
    {
     "name": "stdout",
     "output_type": "stream",
     "text": [
      "Lendo e carregando arquivo D:/CNPJ_Dados_Abertos/Extracted/K3241.K03200Y2.D40413.EMPRECSV no DuckDB em chunks...\n"
     ]
    },
    {
     "name": "stderr",
     "output_type": "stream",
     "text": [
      "Processando arquivos:  35%|███▌      | 7/20 [15:59<25:44, 118.77s/it]"
     ]
    },
    {
     "name": "stdout",
     "output_type": "stream",
     "text": [
      "Lendo e carregando arquivo D:/CNPJ_Dados_Abertos/Extracted/K3241.K03200Y2.D40413.ESTABELE no DuckDB em chunks...\n"
     ]
    },
    {
     "name": "stderr",
     "output_type": "stream",
     "text": [
      "Processando arquivos:  40%|████      | 8/20 [18:44<26:34, 132.91s/it]"
     ]
    },
    {
     "name": "stdout",
     "output_type": "stream",
     "text": [
      "Lendo e carregando arquivo D:/CNPJ_Dados_Abertos/Extracted/K3241.K03200Y3.D40413.EMPRECSV no DuckDB em chunks...\n"
     ]
    },
    {
     "name": "stderr",
     "output_type": "stream",
     "text": [
      "Processando arquivos:  45%|████▌     | 9/20 [19:40<20:01, 109.24s/it]"
     ]
    },
    {
     "name": "stdout",
     "output_type": "stream",
     "text": [
      "Lendo e carregando arquivo D:/CNPJ_Dados_Abertos/Extracted/K3241.K03200Y3.D40413.ESTABELE no DuckDB em chunks...\n"
     ]
    },
    {
     "name": "stderr",
     "output_type": "stream",
     "text": [
      "Processando arquivos:  50%|█████     | 10/20 [22:46<22:06, 132.61s/it]"
     ]
    },
    {
     "name": "stdout",
     "output_type": "stream",
     "text": [
      "Lendo e carregando arquivo D:/CNPJ_Dados_Abertos/Extracted/K3241.K03200Y4.D40413.EMPRECSV no DuckDB em chunks...\n"
     ]
    },
    {
     "name": "stderr",
     "output_type": "stream",
     "text": [
      "Processando arquivos:  55%|█████▌    | 11/20 [23:54<16:57, 113.11s/it]"
     ]
    },
    {
     "name": "stdout",
     "output_type": "stream",
     "text": [
      "Lendo e carregando arquivo D:/CNPJ_Dados_Abertos/Extracted/K3241.K03200Y4.D40413.ESTABELE no DuckDB em chunks...\n"
     ]
    },
    {
     "name": "stderr",
     "output_type": "stream",
     "text": [
      "Processando arquivos:  60%|██████    | 12/20 [27:31<19:15, 144.46s/it]"
     ]
    },
    {
     "name": "stdout",
     "output_type": "stream",
     "text": [
      "Lendo e carregando arquivo D:/CNPJ_Dados_Abertos/Extracted/K3241.K03200Y5.D40413.EMPRECSV no DuckDB em chunks...\n"
     ]
    },
    {
     "name": "stderr",
     "output_type": "stream",
     "text": [
      "Processando arquivos:  65%|██████▌   | 13/20 [28:50<14:34, 124.90s/it]"
     ]
    },
    {
     "name": "stdout",
     "output_type": "stream",
     "text": [
      "Lendo e carregando arquivo D:/CNPJ_Dados_Abertos/Extracted/K3241.K03200Y5.D40413.ESTABELE no DuckDB em chunks...\n"
     ]
    },
    {
     "name": "stderr",
     "output_type": "stream",
     "text": [
      "Processando arquivos:  70%|███████   | 14/20 [32:59<16:13, 162.29s/it]"
     ]
    },
    {
     "name": "stdout",
     "output_type": "stream",
     "text": [
      "Lendo e carregando arquivo D:/CNPJ_Dados_Abertos/Extracted/K3241.K03200Y6.D40413.ESTABELE no DuckDB em chunks...\n"
     ]
    },
    {
     "name": "stderr",
     "output_type": "stream",
     "text": [
      "Processando arquivos:  75%|███████▌  | 15/20 [37:23<16:04, 192.84s/it]"
     ]
    },
    {
     "name": "stdout",
     "output_type": "stream",
     "text": [
      "Lendo e carregando arquivo D:/CNPJ_Dados_Abertos/Extracted/K3241.K03200Y7.D40413.ESTABELE no DuckDB em chunks...\n"
     ]
    },
    {
     "name": "stderr",
     "output_type": "stream",
     "text": [
      "Processando arquivos:  80%|████████  | 16/20 [42:13<14:47, 221.83s/it]"
     ]
    },
    {
     "name": "stdout",
     "output_type": "stream",
     "text": [
      "Lendo e carregando arquivo D:/CNPJ_Dados_Abertos/Extracted/K3241.K03200Y8.D40413.EMPRECSV no DuckDB em chunks...\n"
     ]
    },
    {
     "name": "stderr",
     "output_type": "stream",
     "text": [
      "Processando arquivos:  85%|████████▌ | 17/20 [44:03<09:25, 188.35s/it]"
     ]
    },
    {
     "name": "stdout",
     "output_type": "stream",
     "text": [
      "Lendo e carregando arquivo D:/CNPJ_Dados_Abertos/Extracted/K3241.K03200Y8.D40413.ESTABELE no DuckDB em chunks...\n"
     ]
    },
    {
     "name": "stderr",
     "output_type": "stream",
     "text": [
      "Processando arquivos:  90%|█████████ | 18/20 [49:16<07:31, 225.71s/it]"
     ]
    },
    {
     "name": "stdout",
     "output_type": "stream",
     "text": [
      "Lendo e carregando arquivo D:/CNPJ_Dados_Abertos/Extracted/K3241.K03200Y9.D40413.EMPRECSV no DuckDB em chunks...\n"
     ]
    },
    {
     "name": "stderr",
     "output_type": "stream",
     "text": [
      "Processando arquivos:  95%|█████████▌| 19/20 [51:08<03:11, 191.59s/it]"
     ]
    },
    {
     "name": "stdout",
     "output_type": "stream",
     "text": [
      "Lendo e carregando arquivo D:/CNPJ_Dados_Abertos/Extracted/K3241.K03200Y9.D40413.ESTABELE no DuckDB em chunks...\n"
     ]
    },
    {
     "name": "stderr",
     "output_type": "stream",
     "text": [
      "Processando arquivos: 100%|██████████| 20/20 [56:31<00:00, 169.57s/it]\n"
     ]
    }
   ],
   "source": [
    "# Diretório onde os arquivos foram extraídos\n",
    "data_dir = 'D:/CNPJ_Dados_Abertos/Extracted/'\n",
    "\n",
    "# Conectar ao banco de dados DuckDB com um novo nome de arquivo\n",
    "con = duckdb.connect(database='cnpj_data_new.db', read_only=False)\n",
    "\n",
    "# Função para verificar se a tabela já existe\n",
    "def tabela_existe(con, table_name):\n",
    "    result = con.execute(f\"SELECT COUNT(*) FROM information_schema.tables WHERE table_name = '{table_name}'\").fetchone()\n",
    "    return result[0] > 0\n",
    "\n",
    "# Função para remover a tabela se ela já existir\n",
    "def remover_tabela_se_existir(con, table_name):\n",
    "    con.execute(f\"DROP TABLE IF EXISTS {table_name}\")\n",
    "\n",
    "# Função para carregar e unificar os arquivos diretamente no DuckDB em chunks\n",
    "def carregar_e_unificar_dados(data_dir, con):\n",
    "    print(\"Arquivos no diretório:\")\n",
    "    all_files = []\n",
    "    for root, dirs, files in os.walk(data_dir):\n",
    "        for file in files:\n",
    "            if any(keyword in file for keyword in ['ESTABELE', 'EMPRECSV', 'SIMPLES', 'NATJUCSV']):\n",
    "                all_files.append((root, file))\n",
    "                print(file)\n",
    "\n",
    "    # Remover tabelas se já existirem\n",
    "    remover_tabela_se_existir(con, 'estabelecimentos')\n",
    "    remover_tabela_se_existir(con, 'empresas')\n",
    "    remover_tabela_se_existir(con, 'simples')\n",
    "    remover_tabela_se_existir(con, 'natureza_juridica')\n",
    "\n",
    "    # Definir as colunas para as tabelas\n",
    "    colunas_estabelecimentos = [\n",
    "        \"CNPJ_BASICO\", \"CNPJ_ORDEM\", \"CNPJ_DV\", \"IDENTIFICADOR_MATRIZ_FILIAL\", \n",
    "        \"NOME_FANTASIA\", \"SITUACAO_CADASTRAL\", \"DATA_SITUACAO_CADASTRAL\", \n",
    "        \"MOTIVO_SITUACAO_CADASTRAL\", \"NOME_DA_CIDADE_NO_EXTERIOR\", \"PAIS\", \n",
    "        \"DATA_DE_INICIO_ATIVIDADE\", \"CNAE_FISCAL_PRINCIPAL\", \"CNAE_FISCAL_SECUNDARIA\", \n",
    "        \"TIPO_DE_LOGRADOURO\", \"LOGRADOURO\", \"NUMERO\", \"COMPLEMENTO\", \"BAIRRO\", \n",
    "        \"CEP\", \"UF\", \"MUNICIPIO\", \"DDD_1\", \"TELEFONE_1\", \"DDD_2\", \"TELEFONE_2\", \n",
    "        \"DDD_DO_FAX\", \"FAX\", \"CORREIO_ELETRONICO\", \"SITUACAO_ESPECIAL\", \n",
    "        \"DATA_DA_SITUACAO_ESPECIAL\"\n",
    "    ]\n",
    "    colunas_empresas = [\n",
    "        \"CNPJ_BASICO\", \"RAZAO_SOCIAL\", \"NATUREZA_JURIDICA\", \"QUALIFICACAO_DO_RESPONSAVEL\", \n",
    "        \"CAPITAL_SOCIAL_DA_EMPRESA\", \"PORTE_DA_EMPRESA\", \"ENTE_FEDERATIVO_RESPONSAVEL\"\n",
    "    ]\n",
    "    colunas_simples = [\n",
    "        \"CNPJ_BASICO\", \"OPCAO_PELO_SIMPLES\", \"DATA_OPCAO_PELO_SIMPLES\", \"DATA_EXCLUSAO_DO_SIMPLES\",\n",
    "        \"OPCAO_PELO_MEI\", \"DATA_OPCAO_PELO_MEI\", \"DATA_EXCLUSAO_DO_MEI\"\n",
    "    ]\n",
    "\n",
    "    colunas_varchar_estabelecimentos = ', '.join([f\"{col} VARCHAR\" for col in colunas_estabelecimentos])\n",
    "    colunas_varchar_empresas = ', '.join([f\"{col} VARCHAR\" for col in colunas_empresas])\n",
    "    colunas_varchar_simples = ', '.join([f\"{col} VARCHAR\" for col in colunas_simples])\n",
    "\n",
    "    # Criar tabelas vazias com colunas como VARCHAR\n",
    "    con.execute(f\"CREATE TABLE estabelecimentos ({colunas_varchar_estabelecimentos})\")\n",
    "    con.execute(f\"CREATE TABLE empresas ({colunas_varchar_empresas})\")\n",
    "    con.execute(f\"CREATE TABLE simples ({colunas_varchar_simples})\")\n",
    "\n",
    "    # Processar os arquivos\n",
    "    for root, file in tqdm(all_files, desc=\"Processando arquivos\"):\n",
    "        file_path = os.path.join(root, file)\n",
    "\n",
    "        # Determinar a tabela de destino com base no nome do arquivo\n",
    "        if 'ESTABELE' in file:\n",
    "            tabela_destino = 'estabelecimentos'\n",
    "        elif 'EMPRECSV' in file:\n",
    "            tabela_destino = 'empresas'\n",
    "        elif 'SIMPLES' in file:\n",
    "            tabela_destino = 'simples'\n",
    "        else:\n",
    "            continue\n",
    "        \n",
    "        # Concatenar os arquivos diretamente no DuckDB em chunks\n",
    "        print(f\"Lendo e carregando arquivo {file_path} no DuckDB em chunks...\")\n",
    "        try:\n",
    "            chunk_size = 100000  # Tamanho do chunk\n",
    "            for chunk in pd.read_csv(file_path, delimiter=';', low_memory=False, encoding='latin1', chunksize=chunk_size, dtype=str):\n",
    "                con.execute(f\"INSERT INTO {tabela_destino} SELECT * FROM chunk\")\n",
    "        except Exception as e:\n",
    "            print(f\"Erro ao ler ou carregar arquivo {file_path}: {e}\")\n",
    "\n",
    "# Carregar e unificar os dados\n",
    "carregar_e_unificar_dados(data_dir, con)"
   ]
  },
  {
   "cell_type": "code",
   "execution_count": 3,
   "id": "e156ae35-9dd7-43b1-9fb6-0f9b7bb4d47d",
   "metadata": {
    "scrolled": true
   },
   "outputs": [
    {
     "name": "stdout",
     "output_type": "stream",
     "text": [
      "\n",
      "Visão geral da tabela 'estabelecimentos':\n",
      "Nomes das colunas:\n",
      "['CNPJ_BASICO', 'CNPJ_ORDEM', 'CNPJ_DV', 'IDENTIFICADOR_MATRIZ_FILIAL', 'NOME_FANTASIA', 'SITUACAO_CADASTRAL', 'DATA_SITUACAO_CADASTRAL', 'MOTIVO_SITUACAO_CADASTRAL', 'NOME_DA_CIDADE_NO_EXTERIOR', 'PAIS', 'DATA_DE_INICIO_ATIVIDADE', 'CNAE_FISCAL_PRINCIPAL', 'CNAE_FISCAL_SECUNDARIA', 'TIPO_DE_LOGRADOURO', 'LOGRADOURO', 'NUMERO', 'COMPLEMENTO', 'BAIRRO', 'CEP', 'UF', 'MUNICIPIO', 'DDD_1', 'TELEFONE_1', 'DDD_2', 'TELEFONE_2', 'DDD_DO_FAX', 'FAX', 'CORREIO_ELETRONICO', 'SITUACAO_ESPECIAL', 'DATA_DA_SITUACAO_ESPECIAL']\n",
      "Primeiras linhas da tabela 'estabelecimentos':\n",
      "  CNPJ_BASICO CNPJ_ORDEM CNPJ_DV IDENTIFICADOR_MATRIZ_FILIAL   NOME_FANTASIA  \\\n",
      "0    76137801       0001      65                           1            None   \n",
      "1    61079117       0205      56                           2            None   \n",
      "2    06900758       0001      62                           1            None   \n",
      "3    38692695       0001      92                           1            None   \n",
      "4    04733969       0001      22                           1     SOUSA PECAS   \n",
      "5    61079117       0198      92                           2            None   \n",
      "6    06429091       0001      61                           1            None   \n",
      "7    04733980       0001      92                           1        TELECARD   \n",
      "8    76137686       0001      29                           1  MAQUINA BRASIL   \n",
      "9    06429095       0001      40                           1            None   \n",
      "\n",
      "  SITUACAO_CADASTRAL DATA_SITUACAO_CADASTRAL MOTIVO_SITUACAO_CADASTRAL  \\\n",
      "0                 08                20081231                        71   \n",
      "1                 08                19960527                        01   \n",
      "2                 04                20181016                        63   \n",
      "3                 08                20081231                        71   \n",
      "4                 04                20210422                        63   \n",
      "5                 08                20181018                        01   \n",
      "6                 08                20041231                        01   \n",
      "7                 08                20040324                        01   \n",
      "8                 08                19810921                        01   \n",
      "9                 08                20041231                        01   \n",
      "\n",
      "  NOME_DA_CIDADE_NO_EXTERIOR  PAIS  ... MUNICIPIO DDD_1 TELEFONE_1 DDD_2  \\\n",
      "0                       None  None  ...      7557  None       None  None   \n",
      "1                       None  None  ...      7099  None       None  None   \n",
      "2                       None  None  ...      7107    11   32423000  None   \n",
      "3                       None  None  ...      5401  None       None  None   \n",
      "4                       None  None  ...      3643    73   32652481    73   \n",
      "5                       None  None  ...      7145  None       None  None   \n",
      "6                       None  None  ...      0879  None       None  None   \n",
      "7                       None  None  ...      2457    81   99432080  None   \n",
      "8                       None  None  ...      7705  None       None  None   \n",
      "9                       None  None  ...      2785  None       None  None   \n",
      "\n",
      "  TELEFONE_2 DDD_DO_FAX       FAX                  CORREIO_ELETRONICO  \\\n",
      "0       None       None      None                                None   \n",
      "1       None       None      None                                None   \n",
      "2       None       None      None  RODOLFO.COSTA@BISCALDIBUENO.ADV.BR   \n",
      "3       None       None      None                                None   \n",
      "4   32652481         73  32652481   conteci.contabilidade@hotmail.com   \n",
      "5       None       None      None                                None   \n",
      "6       None       None      None                                None   \n",
      "7       None       None      None         asscontabil@allbynet.com.br   \n",
      "8       None       None      None                                None   \n",
      "9       None       None      None                                None   \n",
      "\n",
      "  SITUACAO_ESPECIAL DATA_DA_SITUACAO_ESPECIAL  \n",
      "0              None                      None  \n",
      "1              None                      None  \n",
      "2              None                      None  \n",
      "3              None                      None  \n",
      "4              None                      None  \n",
      "5              None                      None  \n",
      "6              None                      None  \n",
      "7              None                      None  \n",
      "8              None                      None  \n",
      "9              None                      None  \n",
      "\n",
      "[10 rows x 30 columns]\n",
      "Estatísticas da tabela 'estabelecimentos':\n",
      "   num_rows\n",
      "0  60267809\n",
      "\n",
      "Visão geral da tabela 'empresas':\n",
      "Nomes das colunas:\n",
      "['CNPJ_BASICO', 'RAZAO_SOCIAL', 'NATUREZA_JURIDICA', 'QUALIFICACAO_DO_RESPONSAVEL', 'CAPITAL_SOCIAL_DA_EMPRESA', 'PORTE_DA_EMPRESA', 'ENTE_FEDERATIVO_RESPONSAVEL']\n",
      "Primeiras linhas da tabela 'empresas':\n",
      "  CNPJ_BASICO                                    RAZAO_SOCIAL  \\\n",
      "0    41273596         RODRIGO JOSE FERREIRA LOPES 05010247941   \n",
      "1    41273597  PACHARRUS QUEIROZ DA COSTA E SILVA 03618384335   \n",
      "2    41273598          GLORIA VIANA DIAS DA SILVA 13118961716   \n",
      "3    41273599         ANA PAULA DA SILVA DE PAULA 04659802957   \n",
      "4    41273600      41.273.600 AVANILSON BRUNO MATIAS DA SILVA   \n",
      "5    41273601     GABRIELA HELENA FACINI DA SILVA 47022415838   \n",
      "6    41273602              FABIO SOUZA DO ROSARIO 80392440210   \n",
      "7    41273603              GRAFLINE ACESSORIOS  GRAFICOS LTDA   \n",
      "8    41273604                    RUMO - ESTUDIO DE DANCA LTDA   \n",
      "9    41273605           WALLACE DE OLIVEIRA SILVA 42992101826   \n",
      "\n",
      "  NATUREZA_JURIDICA QUALIFICACAO_DO_RESPONSAVEL CAPITAL_SOCIAL_DA_EMPRESA  \\\n",
      "0              2135                          50                  10000,00   \n",
      "1              2135                          50                   5000,00   \n",
      "2              2135                          50                   1100,00   \n",
      "3              2135                          50                   2000,00   \n",
      "4              2135                          50                  50000,00   \n",
      "5              2135                          50                   2000,00   \n",
      "6              2135                          50                  15000,00   \n",
      "7              2062                          49                  10000,00   \n",
      "8              2062                          49                  10000,00   \n",
      "9              2135                          50                   1000,00   \n",
      "\n",
      "  PORTE_DA_EMPRESA ENTE_FEDERATIVO_RESPONSAVEL  \n",
      "0               01                        None  \n",
      "1               01                        None  \n",
      "2               01                        None  \n",
      "3               01                        None  \n",
      "4               01                        None  \n",
      "5               01                        None  \n",
      "6               01                        None  \n",
      "7               01                        None  \n",
      "8               01                        None  \n",
      "9               01                        None  \n",
      "Estatísticas da tabela 'empresas':\n",
      "   num_rows\n",
      "0  48315346\n",
      "\n",
      "Visão geral da tabela 'simples':\n",
      "Nomes das colunas:\n",
      "['CNPJ_BASICO', 'OPCAO_PELO_SIMPLES', 'DATA_OPCAO_PELO_SIMPLES', 'DATA_EXCLUSAO_DO_SIMPLES', 'OPCAO_PELO_MEI', 'DATA_OPCAO_PELO_MEI', 'DATA_EXCLUSAO_DO_MEI']\n",
      "Primeiras linhas da tabela 'simples':\n",
      "  CNPJ_BASICO OPCAO_PELO_SIMPLES DATA_OPCAO_PELO_SIMPLES  \\\n",
      "0    00000006                  N                20180101   \n",
      "1    00000008                  N                20140101   \n",
      "2    00000011                  S                20070701   \n",
      "3    00000013                  N                20090101   \n",
      "4    00000015                  N                20070701   \n",
      "5    00000030                  N                20150101   \n",
      "6    00000040                  S                20070701   \n",
      "7    00000041                  N                20070701   \n",
      "8    00000056                  N                20120101   \n",
      "9    00000065                  N                20070701   \n",
      "\n",
      "  DATA_EXCLUSAO_DO_SIMPLES OPCAO_PELO_MEI DATA_OPCAO_PELO_MEI  \\\n",
      "0                 20191231              N            00000000   \n",
      "1                 20211231              N            00000000   \n",
      "2                 00000000              N            00000000   \n",
      "3                 20231231              N            00000000   \n",
      "4                 20081231              N            00000000   \n",
      "5                 20151231              N            00000000   \n",
      "6                 00000000              N            00000000   \n",
      "7                 20151103              N            00000000   \n",
      "8                 20141203              N            00000000   \n",
      "9                 20191231              N            00000000   \n",
      "\n",
      "  DATA_EXCLUSAO_DO_MEI  \n",
      "0             00000000  \n",
      "1             00000000  \n",
      "2             00000000  \n",
      "3             00000000  \n",
      "4             00000000  \n",
      "5             00000000  \n",
      "6             00000000  \n",
      "7             00000000  \n",
      "8             00000000  \n",
      "9             00000000  \n",
      "Estatísticas da tabela 'simples':\n",
      "   num_rows\n",
      "0  38742462\n"
     ]
    }
   ],
   "source": [
    "# Visão geral das tabelas\n",
    "def overview_tabela(con, table_name):\n",
    "    if tabela_existe(con, table_name):\n",
    "        print(f\"\\nVisão geral da tabela '{table_name}':\")\n",
    "        \n",
    "        # Exibir nomes das colunas\n",
    "        colunas = con.execute(f\"PRAGMA table_info({table_name})\").fetchdf()\n",
    "        print(\"Nomes das colunas:\")\n",
    "        print(colunas['name'].tolist())\n",
    "        \n",
    "        print(f\"Primeiras linhas da tabela '{table_name}':\")\n",
    "        result = con.execute(f\"SELECT * FROM {table_name} LIMIT 10\").fetchdf()\n",
    "        print(result)\n",
    "\n",
    "        print(f\"Estatísticas da tabela '{table_name}':\")\n",
    "        result = con.execute(f\"SELECT COUNT(*) AS num_rows FROM {table_name}\").fetchdf()\n",
    "        print(result)\n",
    "    else:\n",
    "        print(f\"Tabela '{table_name}' não existe.\")\n",
    "\n",
    "# Exibir visão geral de cada tabela\n",
    "overview_tabela(con, 'estabelecimentos')\n",
    "overview_tabela(con, 'empresas')\n",
    "overview_tabela(con, 'simples')"
   ]
  },
  {
   "cell_type": "code",
   "execution_count": 7,
   "id": "bc85ace4-0226-485f-8a42-d51f96e0e856",
   "metadata": {},
   "outputs": [],
   "source": [
    "query = \"\"\"\n",
    "WITH params AS (\n",
    "    SELECT \n",
    "        DATE '2023-12-31' AS dt_ref_nao_baixadas,\n",
    "        DATE '2019-01-01' AS dt_ref_inicial\n",
    "),\n",
    "filtered_estabelecimentos AS (\n",
    "    SELECT \n",
    "        DISTINCT LTRIM(RTRIM(CNPJ_BASICO)) AS CNPJ_BASICO,\n",
    "        LTRIM(RTRIM(CNPJ_ORDEM)) AS CNPJ_ORDEM,\n",
    "        LTRIM(RTRIM(CNPJ_DV)) AS CNPJ_DV,\n",
    "        UF,\n",
    "        MUNICIPIO,\n",
    "        CEP,\n",
    "        TRY_CAST(SUBSTRING(DATA_SITUACAO_CADASTRAL, 1, 4) || '-' || SUBSTRING(DATA_SITUACAO_CADASTRAL, 5, 2) || '-' || SUBSTRING(DATA_SITUACAO_CADASTRAL, 7, 2) AS DATE) AS DataSituacaoCadastral,\n",
    "        TRY_CAST(SUBSTRING(DATA_DE_INICIO_ATIVIDADE, 1, 4) || '-' || SUBSTRING(DATA_DE_INICIO_ATIVIDADE, 5, 2) || '-' || SUBSTRING(DATA_DE_INICIO_ATIVIDADE, 7, 2) AS DATE) AS DataCadastro,\n",
    "        CNAE_FISCAL_PRINCIPAL,\n",
    "        CNAE_FISCAL_SECUNDARIA\n",
    "    FROM estabelecimentos\n",
    "    WHERE IDENTIFICADOR_MATRIZ_FILIAL = 1\n",
    "      AND UF != 'EX'\n",
    "      AND SITUACAO_CADASTRAL = '02' -- Apenas empresas ativas\n",
    "      AND TRY_CAST(SUBSTRING(DATA_SITUACAO_CADASTRAL, 1, 4) || '-' || SUBSTRING(DATA_SITUACAO_CADASTRAL, 5, 2) || '-' || SUBSTRING(DATA_SITUACAO_CADASTRAL, 7, 2) AS DATE) <= (SELECT dt_ref_nao_baixadas FROM params) -- Data de situação cadastral <= Data de referência\n",
    "      AND TRY_CAST(SUBSTRING(DATA_DE_INICIO_ATIVIDADE, 1, 4) || '-' || SUBSTRING(DATA_DE_INICIO_ATIVIDADE, 5, 2) || '-' || SUBSTRING(DATA_DE_INICIO_ATIVIDADE, 7, 2) AS DATE) BETWEEN (SELECT dt_ref_inicial FROM params) AND (SELECT dt_ref_nao_baixadas FROM params) -- Data de abertura entre o intervalo de datas\n",
    "      AND CAST(CNAE_FISCAL_PRINCIPAL AS INT) / 100000 NOT IN (84, 94, 99) -- Exclui empresas não mercantis para o Sebrae\n",
    "      AND DATA_SITUACAO_CADASTRAL IS NOT NULL\n",
    "      AND DATA_DE_INICIO_ATIVIDADE IS NOT NULL\n",
    "),\n",
    "empresa_portes AS (\n",
    "    SELECT\n",
    "        emp.CNPJ_BASICO,\n",
    "        CASE \n",
    "         WHEN emp.PORTE_DA_EMPRESA = '01' AND simples.DATA_EXCLUSAO_DO_MEI IS NOT NULL THEN 'MEI'\n",
    "            WHEN emp.PORTE_DA_EMPRESA = '01' AND simples.DATA_EXCLUSAO_DO_MEI IS NULL THEN 'ME' \n",
    "            WHEN emp.PORTE_DA_EMPRESA = '03' AND simples.DATA_EXCLUSAO_DO_MEI IS NOT NULL THEN 'MEI'\n",
    "            WHEN emp.PORTE_DA_EMPRESA = '03' AND simples.DATA_EXCLUSAO_DO_MEI IS NULL THEN 'EPP' \n",
    "            WHEN emp.PORTE_DA_EMPRESA = '05' AND simples.DATA_EXCLUSAO_DO_MEI IS NOT NULL THEN 'MEI'\n",
    "            WHEN emp.PORTE_DA_EMPRESA = '05' AND simples.DATA_EXCLUSAO_DO_SIMPLES IS NOT NULL THEN 'EPP'\n",
    "            WHEN emp.PORTE_DA_EMPRESA = '05' AND simples.DATA_EXCLUSAO_DO_MEI IS NULL THEN 'DEMAIS'\n",
    "            WHEN emp.PORTE_DA_EMPRESA IS NULL AND simples.DATA_EXCLUSAO_DO_MEI IS NOT NULL THEN 'MEI'\n",
    "            \n",
    "        END AS Porte\n",
    "    FROM empresas emp\n",
    "    LEFT JOIN simples simples\n",
    "        ON emp.CNPJ_BASICO = simples.CNPJ_BASICO\n",
    "        AND TRY_CAST(SUBSTRING(simples.DATA_OPCAO_PELO_SIMPLES, 1, 4) || '-' || SUBSTRING(simples.DATA_OPCAO_PELO_SIMPLES, 5, 2) || '-' || SUBSTRING(simples.DATA_OPCAO_PELO_SIMPLES, 7, 2) AS DATE) <= (SELECT dt_ref_nao_baixadas FROM params)\n",
    "        AND (TRY_CAST(SUBSTRING(simples.DATA_EXCLUSAO_DO_SIMPLES, 1, 4) || '-' || SUBSTRING(simples.DATA_EXCLUSAO_DO_SIMPLES, 5, 2) || '-' || SUBSTRING(simples.DATA_EXCLUSAO_DO_SIMPLES, 7, 2) AS DATE) > (SELECT dt_ref_nao_baixadas FROM params) OR simples.DATA_EXCLUSAO_DO_SIMPLES = '00000000')\n",
    "        AND TRY_CAST(SUBSTRING(simples.DATA_OPCAO_PELO_MEI, 1, 4) || '-' || SUBSTRING(simples.DATA_OPCAO_PELO_MEI, 5, 2) || '-' || SUBSTRING(simples.DATA_OPCAO_PELO_MEI, 7, 2) AS DATE) <= (SELECT dt_ref_nao_baixadas FROM params)\n",
    "        AND (TRY_CAST(SUBSTRING(simples.DATA_EXCLUSAO_DO_MEI, 1, 4) || '-' || SUBSTRING(simples.DATA_EXCLUSAO_DO_MEI, 5, 2) || '-' || SUBSTRING(simples.DATA_EXCLUSAO_DO_MEI, 7, 2) AS DATE) > (SELECT dt_ref_nao_baixadas FROM params) OR simples.DATA_EXCLUSAO_DO_MEI = '00000000')\n",
    ")\n",
    "\n",
    "SELECT DISTINCT\n",
    "    CAST(est.CNPJ_BASICO || est.CNPJ_ORDEM || est.CNPJ_DV AS VARCHAR(14)) AS CNPJ,\n",
    "    est.UF,\n",
    "    est.MUNICIPIO,\n",
    "    est.CEP,\n",
    "    est.DataSituacaoCadastral,\n",
    "    est.DataCadastro,\n",
    "    ep.Porte,\n",
    "    est.CNAE_FISCAL_PRINCIPAL AS CNAE_Principal,\n",
    "    est.CNAE_FISCAL_SECUNDARIA AS CNAE_Secundario\n",
    "FROM filtered_estabelecimentos AS est\n",
    "LEFT JOIN empresa_portes ep\n",
    "    ON est.CNPJ_BASICO = ep.CNPJ_BASICO\n",
    "WHERE \n",
    "    ep.Porte IS NOT NULL\n",
    "    AND ep.Porte IN ('ME', 'EPP', 'DEMAIS');\n",
    "\"\"\""
   ]
  },
  {
   "cell_type": "code",
   "execution_count": 9,
   "id": "6b6e5df3-7b37-4270-b559-c1b8ec07c074",
   "metadata": {
    "scrolled": true
   },
   "outputs": [
    {
     "data": {
      "application/vnd.jupyter.widget-view+json": {
       "model_id": "a68c034eb46548f29df2f6f411980a4e",
       "version_major": 2,
       "version_minor": 0
      },
      "text/plain": [
       "FloatProgress(value=0.0, layout=Layout(width='auto'), style=ProgressStyle(bar_color='black'))"
      ]
     },
     "metadata": {},
     "output_type": "display_data"
    },
    {
     "name": "stdout",
     "output_type": "stream",
     "text": [
      "                   CNPJ  UF MUNICIPIO       CEP DataSituacaoCadastral  \\\n",
      "0        41645633000134  GO      9433  75804610            2021-04-20   \n",
      "1        41645666000184  SP      6713  08735640            2021-04-20   \n",
      "2        41645669000118  RJ      6001  23097155            2021-04-20   \n",
      "3        41645671000197  MG      4123  31080100            2021-04-20   \n",
      "4        41645810000182  SC      8179  89209530            2021-04-20   \n",
      "...                 ...  ..       ...       ...                   ...   \n",
      "3743728  41249316000107  MT      0117  78565000            2021-03-17   \n",
      "3743729  41249545000113  PR      7565  85603025            2021-03-16   \n",
      "3743730  41249556000101  RJ      6001  22410906            2021-03-17   \n",
      "3743731  41249621000190  PE      2531  50790640            2021-03-17   \n",
      "3743732  41249893000190  PR      7493  85807141            2021-03-17   \n",
      "\n",
      "        DataCadastro   Porte CNAE_Principal  \\\n",
      "0         2021-04-20      ME        4772500   \n",
      "1         2021-04-20     EPP        6622300   \n",
      "2         2021-04-20      ME        8211300   \n",
      "3         2021-04-20  DEMAIS        4110700   \n",
      "4         2021-04-20     EPP        0121101   \n",
      "...              ...     ...            ...   \n",
      "3743728   2021-03-17      ME        4744001   \n",
      "3743729   2021-03-16      ME        8299799   \n",
      "3743730   2021-03-17     EPP        9602502   \n",
      "3743731   2021-03-17      ME        4729699   \n",
      "3743732   2021-03-17      ME        8630503   \n",
      "\n",
      "                                           CNAE_Secundario  \n",
      "0                                                     None  \n",
      "1        6201501,6202300,6203100,6204000,6619302,661939...  \n",
      "2                                                     None  \n",
      "3                                                     None  \n",
      "4                          0122900,2740602,4652400,6209100  \n",
      "...                                                    ...  \n",
      "3743728                                    3314713,4613300  \n",
      "3743729                                               None  \n",
      "3743730                                            4772500  \n",
      "3743731                                    4723700,4789099  \n",
      "3743732                                    8630501,8630502  \n",
      "\n",
      "[3743733 rows x 9 columns]\n"
     ]
    }
   ],
   "source": [
    "# Executar a consulta\n",
    "result = con.execute(query).fetchdf()\n",
    "print(result)"
   ]
  },
  {
   "cell_type": "code",
   "execution_count": 10,
   "id": "758eb465-8d71-4589-a6fd-48e1321fb924",
   "metadata": {},
   "outputs": [
    {
     "data": {
      "text/html": [
       "<div>\n",
       "<style scoped>\n",
       "    .dataframe tbody tr th:only-of-type {\n",
       "        vertical-align: middle;\n",
       "    }\n",
       "\n",
       "    .dataframe tbody tr th {\n",
       "        vertical-align: top;\n",
       "    }\n",
       "\n",
       "    .dataframe thead th {\n",
       "        text-align: right;\n",
       "    }\n",
       "</style>\n",
       "<table border=\"1\" class=\"dataframe\">\n",
       "  <thead>\n",
       "    <tr style=\"text-align: right;\">\n",
       "      <th></th>\n",
       "      <th>DataSituacaoCadastral</th>\n",
       "      <th>DataCadastro</th>\n",
       "    </tr>\n",
       "  </thead>\n",
       "  <tbody>\n",
       "    <tr>\n",
       "      <th>count</th>\n",
       "      <td>3743733</td>\n",
       "      <td>3743733</td>\n",
       "    </tr>\n",
       "    <tr>\n",
       "      <th>mean</th>\n",
       "      <td>2021-10-14 21:45:28.108976</td>\n",
       "      <td>2021-09-26 00:59:35.031874</td>\n",
       "    </tr>\n",
       "    <tr>\n",
       "      <th>min</th>\n",
       "      <td>2019-01-01 00:00:00</td>\n",
       "      <td>2019-01-01 00:00:00</td>\n",
       "    </tr>\n",
       "    <tr>\n",
       "      <th>25%</th>\n",
       "      <td>2020-09-15 00:00:00</td>\n",
       "      <td>2020-08-18 00:00:00</td>\n",
       "    </tr>\n",
       "    <tr>\n",
       "      <th>50%</th>\n",
       "      <td>2021-11-29 00:00:00</td>\n",
       "      <td>2021-10-30 00:00:00</td>\n",
       "    </tr>\n",
       "    <tr>\n",
       "      <th>75%</th>\n",
       "      <td>2022-12-28 00:00:00</td>\n",
       "      <td>2022-12-14 00:00:00</td>\n",
       "    </tr>\n",
       "    <tr>\n",
       "      <th>max</th>\n",
       "      <td>2023-12-31 00:00:00</td>\n",
       "      <td>2023-12-31 00:00:00</td>\n",
       "    </tr>\n",
       "  </tbody>\n",
       "</table>\n",
       "</div>"
      ],
      "text/plain": [
       "            DataSituacaoCadastral                DataCadastro\n",
       "count                     3743733                     3743733\n",
       "mean   2021-10-14 21:45:28.108976  2021-09-26 00:59:35.031874\n",
       "min           2019-01-01 00:00:00         2019-01-01 00:00:00\n",
       "25%           2020-09-15 00:00:00         2020-08-18 00:00:00\n",
       "50%           2021-11-29 00:00:00         2021-10-30 00:00:00\n",
       "75%           2022-12-28 00:00:00         2022-12-14 00:00:00\n",
       "max           2023-12-31 00:00:00         2023-12-31 00:00:00"
      ]
     },
     "execution_count": 10,
     "metadata": {},
     "output_type": "execute_result"
    }
   ],
   "source": [
    "result.describe()"
   ]
  },
  {
   "cell_type": "code",
   "execution_count": 11,
   "id": "bfd32770-4cff-4a59-b677-9dc03c85d205",
   "metadata": {},
   "outputs": [
    {
     "data": {
      "text/html": [
       "<div>\n",
       "<style scoped>\n",
       "    .dataframe tbody tr th:only-of-type {\n",
       "        vertical-align: middle;\n",
       "    }\n",
       "\n",
       "    .dataframe tbody tr th {\n",
       "        vertical-align: top;\n",
       "    }\n",
       "\n",
       "    .dataframe thead th {\n",
       "        text-align: right;\n",
       "    }\n",
       "</style>\n",
       "<table border=\"1\" class=\"dataframe\">\n",
       "  <thead>\n",
       "    <tr style=\"text-align: right;\">\n",
       "      <th></th>\n",
       "      <th>CNPJ</th>\n",
       "      <th>UF</th>\n",
       "      <th>MUNICIPIO</th>\n",
       "      <th>CEP</th>\n",
       "      <th>DataSituacaoCadastral</th>\n",
       "      <th>DataCadastro</th>\n",
       "      <th>Porte</th>\n",
       "      <th>CNAE_Principal</th>\n",
       "      <th>CNAE_Secundario</th>\n",
       "    </tr>\n",
       "  </thead>\n",
       "  <tbody>\n",
       "    <tr>\n",
       "      <th>count</th>\n",
       "      <td>3743733</td>\n",
       "      <td>3743733</td>\n",
       "      <td>3743733</td>\n",
       "      <td>3743733</td>\n",
       "      <td>3743733</td>\n",
       "      <td>3743733</td>\n",
       "      <td>3743733</td>\n",
       "      <td>3743733</td>\n",
       "      <td>2740267</td>\n",
       "    </tr>\n",
       "    <tr>\n",
       "      <th>unique</th>\n",
       "      <td>3743733</td>\n",
       "      <td>27</td>\n",
       "      <td>5570</td>\n",
       "      <td>505569</td>\n",
       "      <td>1826</td>\n",
       "      <td>1826</td>\n",
       "      <td>3</td>\n",
       "      <td>1306</td>\n",
       "      <td>1035535</td>\n",
       "    </tr>\n",
       "    <tr>\n",
       "      <th>top</th>\n",
       "      <td>41645633000134</td>\n",
       "      <td>SP</td>\n",
       "      <td>7107</td>\n",
       "      <td>88220000</td>\n",
       "      <td>2023-08-21 00:00:00</td>\n",
       "      <td>2023-08-21 00:00:00</td>\n",
       "      <td>ME</td>\n",
       "      <td>8211300</td>\n",
       "      <td>8219999</td>\n",
       "    </tr>\n",
       "    <tr>\n",
       "      <th>freq</th>\n",
       "      <td>1</td>\n",
       "      <td>1216306</td>\n",
       "      <td>475159</td>\n",
       "      <td>4962</td>\n",
       "      <td>4604</td>\n",
       "      <td>4558</td>\n",
       "      <td>2690057</td>\n",
       "      <td>129209</td>\n",
       "      <td>26295</td>\n",
       "    </tr>\n",
       "  </tbody>\n",
       "</table>\n",
       "</div>"
      ],
      "text/plain": [
       "                  CNPJ       UF MUNICIPIO       CEP DataSituacaoCadastral  \\\n",
       "count          3743733  3743733   3743733   3743733               3743733   \n",
       "unique         3743733       27      5570    505569                  1826   \n",
       "top     41645633000134       SP      7107  88220000   2023-08-21 00:00:00   \n",
       "freq                 1  1216306    475159      4962                  4604   \n",
       "\n",
       "               DataCadastro    Porte CNAE_Principal CNAE_Secundario  \n",
       "count               3743733  3743733        3743733         2740267  \n",
       "unique                 1826        3           1306         1035535  \n",
       "top     2023-08-21 00:00:00       ME        8211300         8219999  \n",
       "freq                   4558  2690057         129209           26295  "
      ]
     },
     "execution_count": 11,
     "metadata": {},
     "output_type": "execute_result"
    }
   ],
   "source": [
    "result.astype('object').describe()"
   ]
  },
  {
   "cell_type": "code",
   "execution_count": 12,
   "id": "345a423f-082c-431f-9068-281b244ca94a",
   "metadata": {},
   "outputs": [
    {
     "data": {
      "text/plain": [
       "Timestamp('2023-12-31 00:00:00')"
      ]
     },
     "execution_count": 12,
     "metadata": {},
     "output_type": "execute_result"
    }
   ],
   "source": [
    "result.DataSituacaoCadastral.max()"
   ]
  },
  {
   "cell_type": "code",
   "execution_count": 13,
   "id": "94cdb2b3-d710-4431-b980-0716d5643361",
   "metadata": {},
   "outputs": [
    {
     "data": {
      "text/plain": [
       "3743733"
      ]
     },
     "execution_count": 13,
     "metadata": {},
     "output_type": "execute_result"
    }
   ],
   "source": [
    "result[\"CNPJ\"].nunique()"
   ]
  },
  {
   "cell_type": "code",
   "execution_count": 14,
   "id": "e592eee1-51fe-471b-a62c-8a17f8f34bb7",
   "metadata": {},
   "outputs": [
    {
     "name": "stdout",
     "output_type": "stream",
     "text": [
      "Arquivo Parquet salvo em: Dados/empresas_ativas.parquet\n"
     ]
    }
   ],
   "source": [
    "# Salvar o resultado em um arquivo Parquet\n",
    "parquet_file = 'Dados/empresas_ativas.parquet'\n",
    "result.to_parquet(parquet_file)\n",
    "\n",
    "print(f\"Arquivo Parquet salvo em: {parquet_file}\")"
   ]
  },
  {
   "cell_type": "code",
   "execution_count": 21,
   "id": "a23ccb23-fa60-4d72-a929-dd1b4f8ed2c0",
   "metadata": {},
   "outputs": [],
   "source": [
    "# Remover todas as tabelas\n",
    "remover_tabela_se_existir(con, 'estabelecimentos')\n",
    "remover_tabela_se_existir(con, 'empresas')\n",
    "remover_tabela_se_existir(con, 'simples')\n",
    "remover_tabela_se_existir(con, 'natureza_juridica')\n",
    "\n",
    "# Fechar a conexão com o banco de dados\n",
    "con.close()"
   ]
  },
  {
   "cell_type": "code",
   "execution_count": null,
   "id": "5271d084-1e2b-46bd-8452-9353c2acf285",
   "metadata": {},
   "outputs": [],
   "source": []
  }
 ],
 "metadata": {
  "kernelspec": {
   "display_name": "Python [conda env:base] *",
   "language": "python",
   "name": "conda-base-py"
  },
  "language_info": {
   "codemirror_mode": {
    "name": "ipython",
    "version": 3
   },
   "file_extension": ".py",
   "mimetype": "text/x-python",
   "name": "python",
   "nbconvert_exporter": "python",
   "pygments_lexer": "ipython3",
   "version": "3.12.7"
  }
 },
 "nbformat": 4,
 "nbformat_minor": 5
}
