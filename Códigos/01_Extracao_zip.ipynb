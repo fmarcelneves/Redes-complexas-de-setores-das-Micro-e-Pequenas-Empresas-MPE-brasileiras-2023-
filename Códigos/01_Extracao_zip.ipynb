{
 "cells": [
  {
   "cell_type": "code",
   "execution_count": 1,
   "id": "e2fbf4ec-4aca-4e65-ab3c-d19bc110e631",
   "metadata": {
    "tags": []
   },
   "outputs": [],
   "source": [
    "import zipfile\n",
    "import os"
   ]
  },
  {
   "cell_type": "code",
   "execution_count": 3,
   "id": "08c0581b-1b09-43f2-9e40-ed423d11153f",
   "metadata": {
    "tags": []
   },
   "outputs": [],
   "source": [
    "# Diretório onde estão os arquivos ZIP\n",
    "zip_dir = 'D:/CNPJ_Dados_Abertos/'\n",
    "\n",
    "# Diretório para extrair os arquivos\n",
    "extract_dir = 'D:/CNPJ_Dados_Abertos/Extracted/'\n",
    "\n",
    "# Cria o diretório de extração se não existir\n",
    "os.makedirs(extract_dir, exist_ok=True)\n",
    "\n",
    "# Função para descompactar arquivos ZIP\n",
    "def descompactar_arquivos(zip_dir, extract_dir):\n",
    "    for root, dirs, files in os.walk(zip_dir):\n",
    "        for file in files:\n",
    "            if file.endswith('.zip'):\n",
    "                zip_path = os.path.join(root, file)\n",
    "                with zipfile.ZipFile(zip_path, 'r') as zip_ref:\n",
    "                    zip_ref.extractall(extract_dir)\n",
    "\n",
    "# Descompactar os arquivos\n",
    "descompactar_arquivos(zip_dir, extract_dir)"
   ]
  },
  {
   "cell_type": "code",
   "execution_count": null,
   "id": "f2e3c16b-f108-4d3d-8d3f-5e7b0d3be9c9",
   "metadata": {},
   "outputs": [],
   "source": []
  }
 ],
 "metadata": {
  "kernelspec": {
   "display_name": "Python [conda env:base] *",
   "language": "python",
   "name": "conda-base-py"
  },
  "language_info": {
   "codemirror_mode": {
    "name": "ipython",
    "version": 3
   },
   "file_extension": ".py",
   "mimetype": "text/x-python",
   "name": "python",
   "nbconvert_exporter": "python",
   "pygments_lexer": "ipython3",
   "version": "3.12.7"
  }
 },
 "nbformat": 4,
 "nbformat_minor": 5
}
